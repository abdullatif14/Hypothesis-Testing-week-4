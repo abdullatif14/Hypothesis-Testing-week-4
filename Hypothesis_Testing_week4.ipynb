{
  "nbformat": 4,
  "nbformat_minor": 0,
  "metadata": {
    "colab": {
      "name": "Hypothesis_Testing_week4",
      "provenance": [],
      "collapsed_sections": [],
      "toc_visible": true,
      "authorship_tag": "ABX9TyP5M7hLeASH/Y0sSXt+H9f+",
      "include_colab_link": true
    },
    "kernelspec": {
      "display_name": "Python 3",
      "name": "python3"
    },
    "language_info": {
      "name": "python"
    }
  },
  "cells": [
    {
      "cell_type": "markdown",
      "metadata": {
        "id": "view-in-github",
        "colab_type": "text"
      },
      "source": [
        "<a href=\"https://colab.research.google.com/github/abdullatif14/Hypothesis-Testing-week-4/blob/main/Hypothesis_Testing_week4.ipynb\" target=\"_parent\"><img src=\"https://colab.research.google.com/assets/colab-badge.svg\" alt=\"Open In Colab\"/></a>"
      ]
    },
    {
      "cell_type": "markdown",
      "metadata": {
        "id": "ChuMCk30rtWB"
      },
      "source": [
        "#Hypothesis Testing\n"
      ]
    },
    {
      "cell_type": "markdown",
      "metadata": {
        "id": "hsu3B0htIuqo"
      },
      "source": [
        "##Defining the question\n",
        "\n",
        "We are to perform a hypothesis testing on Autolib electric car-sharing service company to investigate a claim about the blue cars from the provided Autolib dataset.The claims can be;\n",
        "\n",
        "Is the number of Bluecars taken in area X different than in area Y? \n",
        "\n",
        "Is it greater in area X than in area Z?"
      ]
    },
    {
      "cell_type": "markdown",
      "metadata": {
        "id": "61oJQqO0KBzP"
      },
      "source": [
        "##Metric for Success\n",
        "The project will be successful if we do the following:\n",
        "1. Data Cleaning( dealing with outliers, anomalies and missing data)\n",
        "\n",
        "2. Univariate Analysis\n",
        "\n",
        "3. Bivariate Analysis\n",
        "\n",
        "4. Implementation through hypothesis Testing "
      ]
    },
    {
      "cell_type": "markdown",
      "metadata": {
        "id": "vO7A9q4eUO0i"
      },
      "source": [
        "##Understanding the context\n",
        "\n",
        "The provided dataset is a daily aggregation, by date and postal code, of the number of events on the Autolib network (car-sharing and recharging).\n",
        "\n",
        "We are to investiagte claims about the blue cars in the Autolib electric car-sharing service company.\n"
      ]
    },
    {
      "cell_type": "markdown",
      "metadata": {
        "id": "2VLv5t22XJDq"
      },
      "source": [
        "##Importing our Libraries"
      ]
    },
    {
      "cell_type": "code",
      "metadata": {
        "id": "MxvhLC7aXUn2"
      },
      "source": [
        "import pandas as pd\n",
        "import numpy as np\n",
        "import matplotlib.pyplot as plt\n",
        "import seaborn as sns\n"
      ],
      "execution_count": null,
      "outputs": []
    },
    {
      "cell_type": "markdown",
      "metadata": {
        "id": "6zcv0O9DXwsz"
      },
      "source": [
        "##Reading the Data"
      ]
    },
    {
      "cell_type": "code",
      "metadata": {
        "colab": {
          "base_uri": "https://localhost:8080/"
        },
        "id": "4jV98Xzdwcd2",
        "outputId": "f386b76d-e84e-491c-9d2b-629477fcb30c"
      },
      "source": [
        "data = '/content/columns_explanation.xlsx'\n",
        "df1 = pd.read_excel(r'/content/columns_explanation.xlsx')\n",
        "print(df1)"
      ],
      "execution_count": null,
      "outputs": [
        {
          "output_type": "stream",
          "text": [
            "               Column name                                        explanation\n",
            "0              Postal code                 postal code of the area (in Paris)\n",
            "1                     date                        date of the row aggregation\n",
            "2      n_daily_data_points  number of daily data poinst that were availabl...\n",
            "3                dayOfWeek     identifier of weekday (0: Monday -> 6: Sunday)\n",
            "4                 day_type                                 weekday or weekend\n",
            "5       BlueCars_taken_sum    Number of bluecars taken that date in that area\n",
            "6    BlueCars_returned_sum  Number of bluecars returned that date in that ...\n",
            "7         Utilib_taken_sum      Number of Utilib taken that date in that area\n",
            "8      Utilib_returned_sum   Number of Utilib returned that date in that area\n",
            "9      Utilib_14_taken_sum  Number of Utilib 1.4 taken that date in that area\n",
            "10  Utilib_14_returned_sum  Number of Utilib 1.4 returned that date in tha...\n",
            "11         Slots_freed_sum  Number of recharging slots released that date ...\n",
            "12         Slots_taken_sum  Number of rechargign slots taken that date in ...\n"
          ],
          "name": "stdout"
        }
      ]
    },
    {
      "cell_type": "code",
      "metadata": {
        "colab": {
          "base_uri": "https://localhost:8080/",
          "height": 241
        },
        "id": "BEb4FmYsYPQv",
        "outputId": "25f01ec6-5d80-4eca-801d-01560175033c"
      },
      "source": [
        "#reading our csv file\n",
        "dataset = '/content/autolib_daily_events_postal_code.csv'\n",
        "df = pd.read_csv('/content/autolib_daily_events_postal_code.csv')\n",
        "df.head()\n",
        "\n"
      ],
      "execution_count": null,
      "outputs": [
        {
          "output_type": "execute_result",
          "data": {
            "text/html": [
              "<div>\n",
              "<style scoped>\n",
              "    .dataframe tbody tr th:only-of-type {\n",
              "        vertical-align: middle;\n",
              "    }\n",
              "\n",
              "    .dataframe tbody tr th {\n",
              "        vertical-align: top;\n",
              "    }\n",
              "\n",
              "    .dataframe thead th {\n",
              "        text-align: right;\n",
              "    }\n",
              "</style>\n",
              "<table border=\"1\" class=\"dataframe\">\n",
              "  <thead>\n",
              "    <tr style=\"text-align: right;\">\n",
              "      <th></th>\n",
              "      <th>Postal code</th>\n",
              "      <th>date</th>\n",
              "      <th>n_daily_data_points</th>\n",
              "      <th>dayOfWeek</th>\n",
              "      <th>day_type</th>\n",
              "      <th>BlueCars_taken_sum</th>\n",
              "      <th>BlueCars_returned_sum</th>\n",
              "      <th>Utilib_taken_sum</th>\n",
              "      <th>Utilib_returned_sum</th>\n",
              "      <th>Utilib_14_taken_sum</th>\n",
              "      <th>Utilib_14_returned_sum</th>\n",
              "      <th>Slots_freed_sum</th>\n",
              "      <th>Slots_taken_sum</th>\n",
              "    </tr>\n",
              "  </thead>\n",
              "  <tbody>\n",
              "    <tr>\n",
              "      <th>0</th>\n",
              "      <td>75001</td>\n",
              "      <td>1/1/2018</td>\n",
              "      <td>1440</td>\n",
              "      <td>0</td>\n",
              "      <td>weekday</td>\n",
              "      <td>110</td>\n",
              "      <td>103</td>\n",
              "      <td>3</td>\n",
              "      <td>2</td>\n",
              "      <td>10</td>\n",
              "      <td>9</td>\n",
              "      <td>22</td>\n",
              "      <td>20</td>\n",
              "    </tr>\n",
              "    <tr>\n",
              "      <th>1</th>\n",
              "      <td>75001</td>\n",
              "      <td>1/2/2018</td>\n",
              "      <td>1438</td>\n",
              "      <td>1</td>\n",
              "      <td>weekday</td>\n",
              "      <td>98</td>\n",
              "      <td>94</td>\n",
              "      <td>1</td>\n",
              "      <td>1</td>\n",
              "      <td>8</td>\n",
              "      <td>8</td>\n",
              "      <td>23</td>\n",
              "      <td>22</td>\n",
              "    </tr>\n",
              "    <tr>\n",
              "      <th>2</th>\n",
              "      <td>75001</td>\n",
              "      <td>1/3/2018</td>\n",
              "      <td>1439</td>\n",
              "      <td>2</td>\n",
              "      <td>weekday</td>\n",
              "      <td>138</td>\n",
              "      <td>139</td>\n",
              "      <td>0</td>\n",
              "      <td>0</td>\n",
              "      <td>2</td>\n",
              "      <td>2</td>\n",
              "      <td>27</td>\n",
              "      <td>27</td>\n",
              "    </tr>\n",
              "    <tr>\n",
              "      <th>3</th>\n",
              "      <td>75001</td>\n",
              "      <td>1/4/2018</td>\n",
              "      <td>1320</td>\n",
              "      <td>3</td>\n",
              "      <td>weekday</td>\n",
              "      <td>104</td>\n",
              "      <td>104</td>\n",
              "      <td>2</td>\n",
              "      <td>2</td>\n",
              "      <td>9</td>\n",
              "      <td>8</td>\n",
              "      <td>25</td>\n",
              "      <td>21</td>\n",
              "    </tr>\n",
              "    <tr>\n",
              "      <th>4</th>\n",
              "      <td>75001</td>\n",
              "      <td>1/5/2018</td>\n",
              "      <td>1440</td>\n",
              "      <td>4</td>\n",
              "      <td>weekday</td>\n",
              "      <td>114</td>\n",
              "      <td>117</td>\n",
              "      <td>3</td>\n",
              "      <td>3</td>\n",
              "      <td>6</td>\n",
              "      <td>6</td>\n",
              "      <td>18</td>\n",
              "      <td>20</td>\n",
              "    </tr>\n",
              "  </tbody>\n",
              "</table>\n",
              "</div>"
            ],
            "text/plain": [
              "   Postal code      date  ...  Slots_freed_sum  Slots_taken_sum\n",
              "0        75001  1/1/2018  ...               22               20\n",
              "1        75001  1/2/2018  ...               23               22\n",
              "2        75001  1/3/2018  ...               27               27\n",
              "3        75001  1/4/2018  ...               25               21\n",
              "4        75001  1/5/2018  ...               18               20\n",
              "\n",
              "[5 rows x 13 columns]"
            ]
          },
          "metadata": {
            "tags": []
          },
          "execution_count": 4
        }
      ]
    },
    {
      "cell_type": "markdown",
      "metadata": {
        "id": "zt42ApSHnPA_"
      },
      "source": [
        "##Checking the Data"
      ]
    },
    {
      "cell_type": "code",
      "metadata": {
        "colab": {
          "base_uri": "https://localhost:8080/"
        },
        "id": "Pk6XWGzOdNyI",
        "outputId": "59298a8d-6b62-44fc-fafd-9126c7f09454"
      },
      "source": [
        "df.shape"
      ],
      "execution_count": null,
      "outputs": [
        {
          "output_type": "execute_result",
          "data": {
            "text/plain": [
              "(16085, 13)"
            ]
          },
          "metadata": {
            "tags": []
          },
          "execution_count": 5
        }
      ]
    },
    {
      "cell_type": "code",
      "metadata": {
        "colab": {
          "base_uri": "https://localhost:8080/"
        },
        "id": "H7DkNGy2nhuh",
        "outputId": "24083bc3-10f8-4ba0-961c-a597dcb8750f"
      },
      "source": [
        "df.info"
      ],
      "execution_count": null,
      "outputs": [
        {
          "output_type": "execute_result",
          "data": {
            "text/plain": [
              "<bound method DataFrame.info of        Postal code       date  ...  Slots_freed_sum  Slots_taken_sum\n",
              "0            75001   1/1/2018  ...               22               20\n",
              "1            75001   1/2/2018  ...               23               22\n",
              "2            75001   1/3/2018  ...               27               27\n",
              "3            75001   1/4/2018  ...               25               21\n",
              "4            75001   1/5/2018  ...               18               20\n",
              "...            ...        ...  ...              ...              ...\n",
              "16080        95880  6/15/2018  ...                0                0\n",
              "16081        95880  6/16/2018  ...                0                0\n",
              "16082        95880  6/17/2018  ...                0                0\n",
              "16083        95880  6/18/2018  ...                0                0\n",
              "16084        95880  6/19/2018  ...                0                0\n",
              "\n",
              "[16085 rows x 13 columns]>"
            ]
          },
          "metadata": {
            "tags": []
          },
          "execution_count": 6
        }
      ]
    },
    {
      "cell_type": "code",
      "metadata": {
        "colab": {
          "base_uri": "https://localhost:8080/",
          "height": 241
        },
        "id": "cFb_Z4Urnld5",
        "outputId": "70068809-4546-41b9-b5f8-2c690e8b88b1"
      },
      "source": [
        "df.tail()"
      ],
      "execution_count": null,
      "outputs": [
        {
          "output_type": "execute_result",
          "data": {
            "text/html": [
              "<div>\n",
              "<style scoped>\n",
              "    .dataframe tbody tr th:only-of-type {\n",
              "        vertical-align: middle;\n",
              "    }\n",
              "\n",
              "    .dataframe tbody tr th {\n",
              "        vertical-align: top;\n",
              "    }\n",
              "\n",
              "    .dataframe thead th {\n",
              "        text-align: right;\n",
              "    }\n",
              "</style>\n",
              "<table border=\"1\" class=\"dataframe\">\n",
              "  <thead>\n",
              "    <tr style=\"text-align: right;\">\n",
              "      <th></th>\n",
              "      <th>Postal code</th>\n",
              "      <th>date</th>\n",
              "      <th>n_daily_data_points</th>\n",
              "      <th>dayOfWeek</th>\n",
              "      <th>day_type</th>\n",
              "      <th>BlueCars_taken_sum</th>\n",
              "      <th>BlueCars_returned_sum</th>\n",
              "      <th>Utilib_taken_sum</th>\n",
              "      <th>Utilib_returned_sum</th>\n",
              "      <th>Utilib_14_taken_sum</th>\n",
              "      <th>Utilib_14_returned_sum</th>\n",
              "      <th>Slots_freed_sum</th>\n",
              "      <th>Slots_taken_sum</th>\n",
              "    </tr>\n",
              "  </thead>\n",
              "  <tbody>\n",
              "    <tr>\n",
              "      <th>16080</th>\n",
              "      <td>95880</td>\n",
              "      <td>6/15/2018</td>\n",
              "      <td>1440</td>\n",
              "      <td>4</td>\n",
              "      <td>weekday</td>\n",
              "      <td>15</td>\n",
              "      <td>10</td>\n",
              "      <td>0</td>\n",
              "      <td>0</td>\n",
              "      <td>2</td>\n",
              "      <td>3</td>\n",
              "      <td>0</td>\n",
              "      <td>0</td>\n",
              "    </tr>\n",
              "    <tr>\n",
              "      <th>16081</th>\n",
              "      <td>95880</td>\n",
              "      <td>6/16/2018</td>\n",
              "      <td>1440</td>\n",
              "      <td>5</td>\n",
              "      <td>weekend</td>\n",
              "      <td>19</td>\n",
              "      <td>19</td>\n",
              "      <td>0</td>\n",
              "      <td>0</td>\n",
              "      <td>2</td>\n",
              "      <td>1</td>\n",
              "      <td>0</td>\n",
              "      <td>0</td>\n",
              "    </tr>\n",
              "    <tr>\n",
              "      <th>16082</th>\n",
              "      <td>95880</td>\n",
              "      <td>6/17/2018</td>\n",
              "      <td>1440</td>\n",
              "      <td>6</td>\n",
              "      <td>weekend</td>\n",
              "      <td>33</td>\n",
              "      <td>35</td>\n",
              "      <td>1</td>\n",
              "      <td>1</td>\n",
              "      <td>0</td>\n",
              "      <td>0</td>\n",
              "      <td>0</td>\n",
              "      <td>0</td>\n",
              "    </tr>\n",
              "    <tr>\n",
              "      <th>16083</th>\n",
              "      <td>95880</td>\n",
              "      <td>6/18/2018</td>\n",
              "      <td>1440</td>\n",
              "      <td>0</td>\n",
              "      <td>weekday</td>\n",
              "      <td>11</td>\n",
              "      <td>14</td>\n",
              "      <td>3</td>\n",
              "      <td>5</td>\n",
              "      <td>2</td>\n",
              "      <td>2</td>\n",
              "      <td>0</td>\n",
              "      <td>0</td>\n",
              "    </tr>\n",
              "    <tr>\n",
              "      <th>16084</th>\n",
              "      <td>95880</td>\n",
              "      <td>6/19/2018</td>\n",
              "      <td>1370</td>\n",
              "      <td>1</td>\n",
              "      <td>weekday</td>\n",
              "      <td>2</td>\n",
              "      <td>2</td>\n",
              "      <td>2</td>\n",
              "      <td>1</td>\n",
              "      <td>0</td>\n",
              "      <td>0</td>\n",
              "      <td>0</td>\n",
              "      <td>0</td>\n",
              "    </tr>\n",
              "  </tbody>\n",
              "</table>\n",
              "</div>"
            ],
            "text/plain": [
              "       Postal code       date  ...  Slots_freed_sum  Slots_taken_sum\n",
              "16080        95880  6/15/2018  ...                0                0\n",
              "16081        95880  6/16/2018  ...                0                0\n",
              "16082        95880  6/17/2018  ...                0                0\n",
              "16083        95880  6/18/2018  ...                0                0\n",
              "16084        95880  6/19/2018  ...                0                0\n",
              "\n",
              "[5 rows x 13 columns]"
            ]
          },
          "metadata": {
            "tags": []
          },
          "execution_count": 7
        }
      ]
    },
    {
      "cell_type": "code",
      "metadata": {
        "colab": {
          "base_uri": "https://localhost:8080/"
        },
        "id": "0v7l3Cvinw18",
        "outputId": "68b14e18-14bd-47aa-e88e-d6fafc4b8dfd"
      },
      "source": [
        "df.dtypes"
      ],
      "execution_count": null,
      "outputs": [
        {
          "output_type": "execute_result",
          "data": {
            "text/plain": [
              "Postal code                int64\n",
              "date                      object\n",
              "n_daily_data_points        int64\n",
              "dayOfWeek                  int64\n",
              "day_type                  object\n",
              "BlueCars_taken_sum         int64\n",
              "BlueCars_returned_sum      int64\n",
              "Utilib_taken_sum           int64\n",
              "Utilib_returned_sum        int64\n",
              "Utilib_14_taken_sum        int64\n",
              "Utilib_14_returned_sum     int64\n",
              "Slots_freed_sum            int64\n",
              "Slots_taken_sum            int64\n",
              "dtype: object"
            ]
          },
          "metadata": {
            "tags": []
          },
          "execution_count": 8
        }
      ]
    },
    {
      "cell_type": "code",
      "metadata": {
        "colab": {
          "base_uri": "https://localhost:8080/",
          "height": 317
        },
        "id": "mEUPTTsin1VP",
        "outputId": "a7c4fb16-7220-4297-b082-981cf952cb84"
      },
      "source": [
        "df.describe()"
      ],
      "execution_count": null,
      "outputs": [
        {
          "output_type": "execute_result",
          "data": {
            "text/html": [
              "<div>\n",
              "<style scoped>\n",
              "    .dataframe tbody tr th:only-of-type {\n",
              "        vertical-align: middle;\n",
              "    }\n",
              "\n",
              "    .dataframe tbody tr th {\n",
              "        vertical-align: top;\n",
              "    }\n",
              "\n",
              "    .dataframe thead th {\n",
              "        text-align: right;\n",
              "    }\n",
              "</style>\n",
              "<table border=\"1\" class=\"dataframe\">\n",
              "  <thead>\n",
              "    <tr style=\"text-align: right;\">\n",
              "      <th></th>\n",
              "      <th>Postal code</th>\n",
              "      <th>n_daily_data_points</th>\n",
              "      <th>dayOfWeek</th>\n",
              "      <th>BlueCars_taken_sum</th>\n",
              "      <th>BlueCars_returned_sum</th>\n",
              "      <th>Utilib_taken_sum</th>\n",
              "      <th>Utilib_returned_sum</th>\n",
              "      <th>Utilib_14_taken_sum</th>\n",
              "      <th>Utilib_14_returned_sum</th>\n",
              "      <th>Slots_freed_sum</th>\n",
              "      <th>Slots_taken_sum</th>\n",
              "    </tr>\n",
              "  </thead>\n",
              "  <tbody>\n",
              "    <tr>\n",
              "      <th>count</th>\n",
              "      <td>16085.000000</td>\n",
              "      <td>16085.000000</td>\n",
              "      <td>16085.000000</td>\n",
              "      <td>16085.000000</td>\n",
              "      <td>16085.000000</td>\n",
              "      <td>16085.000000</td>\n",
              "      <td>16085.000000</td>\n",
              "      <td>16085.000000</td>\n",
              "      <td>16085.000000</td>\n",
              "      <td>16085.000000</td>\n",
              "      <td>16085.000000</td>\n",
              "    </tr>\n",
              "    <tr>\n",
              "      <th>mean</th>\n",
              "      <td>88791.293876</td>\n",
              "      <td>1431.330619</td>\n",
              "      <td>2.969599</td>\n",
              "      <td>125.926951</td>\n",
              "      <td>125.912714</td>\n",
              "      <td>3.698290</td>\n",
              "      <td>3.699099</td>\n",
              "      <td>8.600560</td>\n",
              "      <td>8.599192</td>\n",
              "      <td>22.629033</td>\n",
              "      <td>22.629282</td>\n",
              "    </tr>\n",
              "    <tr>\n",
              "      <th>std</th>\n",
              "      <td>7647.342000</td>\n",
              "      <td>33.212050</td>\n",
              "      <td>2.008378</td>\n",
              "      <td>185.426579</td>\n",
              "      <td>185.501535</td>\n",
              "      <td>5.815058</td>\n",
              "      <td>5.824634</td>\n",
              "      <td>12.870098</td>\n",
              "      <td>12.868993</td>\n",
              "      <td>52.120263</td>\n",
              "      <td>52.146030</td>\n",
              "    </tr>\n",
              "    <tr>\n",
              "      <th>min</th>\n",
              "      <td>75001.000000</td>\n",
              "      <td>1174.000000</td>\n",
              "      <td>0.000000</td>\n",
              "      <td>0.000000</td>\n",
              "      <td>0.000000</td>\n",
              "      <td>0.000000</td>\n",
              "      <td>0.000000</td>\n",
              "      <td>0.000000</td>\n",
              "      <td>0.000000</td>\n",
              "      <td>0.000000</td>\n",
              "      <td>0.000000</td>\n",
              "    </tr>\n",
              "    <tr>\n",
              "      <th>25%</th>\n",
              "      <td>91330.000000</td>\n",
              "      <td>1439.000000</td>\n",
              "      <td>1.000000</td>\n",
              "      <td>20.000000</td>\n",
              "      <td>20.000000</td>\n",
              "      <td>0.000000</td>\n",
              "      <td>0.000000</td>\n",
              "      <td>1.000000</td>\n",
              "      <td>1.000000</td>\n",
              "      <td>0.000000</td>\n",
              "      <td>0.000000</td>\n",
              "    </tr>\n",
              "    <tr>\n",
              "      <th>50%</th>\n",
              "      <td>92340.000000</td>\n",
              "      <td>1440.000000</td>\n",
              "      <td>3.000000</td>\n",
              "      <td>46.000000</td>\n",
              "      <td>46.000000</td>\n",
              "      <td>1.000000</td>\n",
              "      <td>1.000000</td>\n",
              "      <td>3.000000</td>\n",
              "      <td>3.000000</td>\n",
              "      <td>0.000000</td>\n",
              "      <td>0.000000</td>\n",
              "    </tr>\n",
              "    <tr>\n",
              "      <th>75%</th>\n",
              "      <td>93400.000000</td>\n",
              "      <td>1440.000000</td>\n",
              "      <td>5.000000</td>\n",
              "      <td>135.000000</td>\n",
              "      <td>135.000000</td>\n",
              "      <td>4.000000</td>\n",
              "      <td>4.000000</td>\n",
              "      <td>10.000000</td>\n",
              "      <td>10.000000</td>\n",
              "      <td>5.000000</td>\n",
              "      <td>5.000000</td>\n",
              "    </tr>\n",
              "    <tr>\n",
              "      <th>max</th>\n",
              "      <td>95880.000000</td>\n",
              "      <td>1440.000000</td>\n",
              "      <td>6.000000</td>\n",
              "      <td>1352.000000</td>\n",
              "      <td>1332.000000</td>\n",
              "      <td>54.000000</td>\n",
              "      <td>58.000000</td>\n",
              "      <td>100.000000</td>\n",
              "      <td>101.000000</td>\n",
              "      <td>360.000000</td>\n",
              "      <td>359.000000</td>\n",
              "    </tr>\n",
              "  </tbody>\n",
              "</table>\n",
              "</div>"
            ],
            "text/plain": [
              "        Postal code  n_daily_data_points  ...  Slots_freed_sum  Slots_taken_sum\n",
              "count  16085.000000         16085.000000  ...     16085.000000     16085.000000\n",
              "mean   88791.293876          1431.330619  ...        22.629033        22.629282\n",
              "std     7647.342000            33.212050  ...        52.120263        52.146030\n",
              "min    75001.000000          1174.000000  ...         0.000000         0.000000\n",
              "25%    91330.000000          1439.000000  ...         0.000000         0.000000\n",
              "50%    92340.000000          1440.000000  ...         0.000000         0.000000\n",
              "75%    93400.000000          1440.000000  ...         5.000000         5.000000\n",
              "max    95880.000000          1440.000000  ...       360.000000       359.000000\n",
              "\n",
              "[8 rows x 11 columns]"
            ]
          },
          "metadata": {
            "tags": []
          },
          "execution_count": 9
        }
      ]
    },
    {
      "cell_type": "markdown",
      "metadata": {
        "id": "pgDeD7BeqTZF"
      },
      "source": [
        "##Data Cleaning"
      ]
    },
    {
      "cell_type": "code",
      "metadata": {
        "colab": {
          "base_uri": "https://localhost:8080/"
        },
        "id": "sC523H3i38FF",
        "outputId": "59f180e3-831f-4432-e411-f4b9c4a29edd"
      },
      "source": [
        "#checking the null values\n",
        "df.isnull().sum()"
      ],
      "execution_count": null,
      "outputs": [
        {
          "output_type": "execute_result",
          "data": {
            "text/plain": [
              "Postal code               0\n",
              "date                      0\n",
              "n_daily_data_points       0\n",
              "dayOfWeek                 0\n",
              "day_type                  0\n",
              "BlueCars_taken_sum        0\n",
              "BlueCars_returned_sum     0\n",
              "Utilib_taken_sum          0\n",
              "Utilib_returned_sum       0\n",
              "Utilib_14_taken_sum       0\n",
              "Utilib_14_returned_sum    0\n",
              "Slots_freed_sum           0\n",
              "Slots_taken_sum           0\n",
              "dtype: int64"
            ]
          },
          "metadata": {
            "tags": []
          },
          "execution_count": 10
        }
      ]
    },
    {
      "cell_type": "code",
      "metadata": {
        "colab": {
          "base_uri": "https://localhost:8080/"
        },
        "id": "7jBy-_gA4S_f",
        "outputId": "6313cd2e-302f-473f-958f-cf738bca8975"
      },
      "source": [
        "#checkinng for duplicates\n",
        "df.duplicated().sum()"
      ],
      "execution_count": null,
      "outputs": [
        {
          "output_type": "execute_result",
          "data": {
            "text/plain": [
              "0"
            ]
          },
          "metadata": {
            "tags": []
          },
          "execution_count": 11
        }
      ]
    },
    {
      "cell_type": "code",
      "metadata": {
        "colab": {
          "base_uri": "https://localhost:8080/"
        },
        "id": "KwD55h9ICBkT",
        "outputId": "6efb1260-0c69-4657-9693-fabf46373823"
      },
      "source": [
        "df.columns"
      ],
      "execution_count": null,
      "outputs": [
        {
          "output_type": "execute_result",
          "data": {
            "text/plain": [
              "Index(['Postal code', 'date', 'n_daily_data_points', 'dayOfWeek', 'day_type',\n",
              "       'BlueCars_taken_sum', 'BlueCars_returned_sum', 'Utilib_taken_sum',\n",
              "       'Utilib_returned_sum', 'Utilib_14_taken_sum', 'Utilib_14_returned_sum',\n",
              "       'Slots_freed_sum', 'Slots_taken_sum'],\n",
              "      dtype='object')"
            ]
          },
          "metadata": {
            "tags": []
          },
          "execution_count": 12
        }
      ]
    },
    {
      "cell_type": "code",
      "metadata": {
        "colab": {
          "base_uri": "https://localhost:8080/"
        },
        "id": "fqr18SRiCMKC",
        "outputId": "d6ff6646-1f39-4548-8509-4c8f03a0073a"
      },
      "source": [
        "df.columns = df.columns.str.replace(' ','_')\n",
        "df.columns"
      ],
      "execution_count": null,
      "outputs": [
        {
          "output_type": "execute_result",
          "data": {
            "text/plain": [
              "Index(['Postal_code', 'date', 'n_daily_data_points', 'dayOfWeek', 'day_type',\n",
              "       'BlueCars_taken_sum', 'BlueCars_returned_sum', 'Utilib_taken_sum',\n",
              "       'Utilib_returned_sum', 'Utilib_14_taken_sum', 'Utilib_14_returned_sum',\n",
              "       'Slots_freed_sum', 'Slots_taken_sum'],\n",
              "      dtype='object')"
            ]
          },
          "metadata": {
            "tags": []
          },
          "execution_count": 13
        }
      ]
    },
    {
      "cell_type": "code",
      "metadata": {
        "colab": {
          "base_uri": "https://localhost:8080/",
          "height": 616
        },
        "id": "4tsplKDzCsrn",
        "outputId": "2c937e63-4688-4f34-b14d-6750f3300c33"
      },
      "source": [
        "#checking for outliers and anomalies\n",
        "fig, ((ax1, ax2, ax3)) = plt.subplots(3, figsize=(10, 7))\n",
        "fig.suptitle('Boxplots')\n",
        "sns.boxplot(df['Postal_code'], ax=ax1)\n",
        "sns.boxplot(df['BlueCars_taken_sum'], ax=ax2)\n",
        "sns.boxplot(df['BlueCars_returned_sum'],ax=ax3)\n",
        "\n",
        "plt.show()"
      ],
      "execution_count": null,
      "outputs": [
        {
          "output_type": "stream",
          "text": [
            "/usr/local/lib/python3.7/dist-packages/seaborn/_decorators.py:43: FutureWarning: Pass the following variable as a keyword arg: x. From version 0.12, the only valid positional argument will be `data`, and passing other arguments without an explicit keyword will result in an error or misinterpretation.\n",
            "  FutureWarning\n",
            "/usr/local/lib/python3.7/dist-packages/seaborn/_decorators.py:43: FutureWarning: Pass the following variable as a keyword arg: x. From version 0.12, the only valid positional argument will be `data`, and passing other arguments without an explicit keyword will result in an error or misinterpretation.\n",
            "  FutureWarning\n",
            "/usr/local/lib/python3.7/dist-packages/seaborn/_decorators.py:43: FutureWarning: Pass the following variable as a keyword arg: x. From version 0.12, the only valid positional argument will be `data`, and passing other arguments without an explicit keyword will result in an error or misinterpretation.\n",
            "  FutureWarning\n"
          ],
          "name": "stderr"
        },
        {
          "output_type": "display_data",
          "data": {
            "image/png": "[encoded data removed]",
            "text/plain": [
              "<Figure size 720x504 with 3 Axes>"
            ]
          },
          "metadata": {
            "tags": [],
            "needs_background": "light"
          }
        }
      ]
    },
    {
      "cell_type": "code",
      "metadata": {
        "colab": {
          "base_uri": "https://localhost:8080/"
        },
        "id": "j4wIuigmReyI",
        "outputId": "998b211b-6e6b-49d2-b5e5-f153ca2264e3"
      },
      "source": [
        "#checking the total no of bluecars \n",
        "df.BlueCars_returned_sum.value_counts()"
      ],
      "execution_count": null,
      "outputs": [
        {
          "output_type": "execute_result",
          "data": {
            "text/plain": [
              "13      260\n",
              "12      254\n",
              "10      249\n",
              "9       243\n",
              "11      242\n",
              "       ... \n",
              "556       1\n",
              "588       1\n",
              "604       1\n",
              "628       1\n",
              "1287      1\n",
              "Name: BlueCars_returned_sum, Length: 929, dtype: int64"
            ]
          },
          "metadata": {
            "tags": []
          },
          "execution_count": 15
        }
      ]
    },
    {
      "cell_type": "code",
      "metadata": {
        "colab": {
          "base_uri": "https://localhost:8080/"
        },
        "id": "ebf9RJhLR3Tz",
        "outputId": "d410cfe8-670f-44f7-db0c-5dac1c26b5e0"
      },
      "source": [
        "df.BlueCars_taken_sum.value_counts()"
      ],
      "execution_count": null,
      "outputs": [
        {
          "output_type": "execute_result",
          "data": {
            "text/plain": [
              "12      261\n",
              "14      253\n",
              "9       247\n",
              "11      246\n",
              "13      238\n",
              "       ... \n",
              "833       1\n",
              "825       1\n",
              "809       1\n",
              "801       1\n",
              "1335      1\n",
              "Name: BlueCars_taken_sum, Length: 932, dtype: int64"
            ]
          },
          "metadata": {
            "tags": []
          },
          "execution_count": 16
        }
      ]
    },
    {
      "cell_type": "markdown",
      "metadata": {
        "id": "sRKvAO3conbv"
      },
      "source": [
        "#Univariate analysis"
      ]
    },
    {
      "cell_type": "code",
      "metadata": {
        "colab": {
          "base_uri": "https://localhost:8080/",
          "height": 352
        },
        "id": "5xNjXOj4qJUi",
        "outputId": "63eeaa90-3de5-4289-d19d-640db5a3f147"
      },
      "source": [
        "sns.distplot(df['BlueCars_taken_sum'], hist=True, kde=True, \n",
        "             bins=int(180/5), color = 'darkblue', \n",
        "             hist_kws={'edgecolor':'black'},\n",
        "             kde_kws={'linewidth': 2})\n"
      ],
      "execution_count": null,
      "outputs": [
        {
          "output_type": "stream",
          "text": [
            "/usr/local/lib/python3.7/dist-packages/seaborn/distributions.py:2557: FutureWarning: `distplot` is a deprecated function and will be removed in a future version. Please adapt your code to use either `displot` (a figure-level function with similar flexibility) or `histplot` (an axes-level function for histograms).\n",
            "  warnings.warn(msg, FutureWarning)\n"
          ],
          "name": "stderr"
        },
        {
          "output_type": "execute_result",
          "data": {
            "text/plain": [
              "<matplotlib.axes._subplots.AxesSubplot at 0x7f86efcf6f50>"
            ]
          },
          "metadata": {
            "tags": []
          },
          "execution_count": 17
        },
        {
          "output_type": "display_data",
          "data": {
            "image/png": "[encoded data removed]",
            "text/plain": [
              "<Figure size 432x288 with 1 Axes>"
            ]
          },
          "metadata": {
            "tags": [],
            "needs_background": "light"
          }
        }
      ]
    },
    {
      "cell_type": "code",
      "metadata": {
        "colab": {
          "base_uri": "https://localhost:8080/",
          "height": 352
        },
        "id": "ls82ECi0qdMw",
        "outputId": "e2999926-be3c-4462-f843-95e25e0ac4a7"
      },
      "source": [
        "sns.distplot(df['BlueCars_returned_sum'], hist=True, kde=True, \n",
        "             bins=int(180/5), color = 'darkblue', \n",
        "             hist_kws={'edgecolor':'black'},\n",
        "             kde_kws={'linewidth': 2})"
      ],
      "execution_count": null,
      "outputs": [
        {
          "output_type": "stream",
          "text": [
            "/usr/local/lib/python3.7/dist-packages/seaborn/distributions.py:2557: FutureWarning: `distplot` is a deprecated function and will be removed in a future version. Please adapt your code to use either `displot` (a figure-level function with similar flexibility) or `histplot` (an axes-level function for histograms).\n",
            "  warnings.warn(msg, FutureWarning)\n"
          ],
          "name": "stderr"
        },
        {
          "output_type": "execute_result",
          "data": {
            "text/plain": [
              "<matplotlib.axes._subplots.AxesSubplot at 0x7f86e4945410>"
            ]
          },
          "metadata": {
            "tags": []
          },
          "execution_count": 18
        },
        {
          "output_type": "display_data",
          "data": {
            "image/png": "[encoded data removed]",
            "text/plain": [
              "<Figure size 432x288 with 1 Axes>"
            ]
          },
          "metadata": {
            "tags": [],
            "needs_background": "light"
          }
        }
      ]
    },
    {
      "cell_type": "code",
      "metadata": {
        "colab": {
          "base_uri": "https://localhost:8080/",
          "height": 480
        },
        "id": "yVhtfuwysIxh",
        "outputId": "8cd3b445-d936-4ffa-efbb-843ede3a287e"
      },
      "source": [
        "returned = df['day_type'].value_counts()\n",
        "print(returned)\n",
        "print(' ')\n",
        "print(' ')\n",
        "sns.set(style=\"white\")\n",
        "sns.barplot(returned.index, returned.values, alpha=0.9)\n",
        "plt.title('Total returned ')\n",
        "plt.ylabel('BlueCars_returned_sum', fontsize=12)\n",
        "plt.xlabel('day_type', fontsize=12)\n",
        "plt.xticks(rotation = 75)\n",
        "plt.show()"
      ],
      "execution_count": null,
      "outputs": [
        {
          "output_type": "stream",
          "text": [
            "weekday    11544\n",
            "weekend     4541\n",
            "Name: day_type, dtype: int64\n",
            " \n",
            " \n"
          ],
          "name": "stdout"
        },
        {
          "output_type": "stream",
          "text": [
            "/usr/local/lib/python3.7/dist-packages/seaborn/_decorators.py:43: FutureWarning: Pass the following variables as keyword args: x, y. From version 0.12, the only valid positional argument will be `data`, and passing other arguments without an explicit keyword will result in an error or misinterpretation.\n",
            "  FutureWarning\n"
          ],
          "name": "stderr"
        },
        {
          "output_type": "display_data",
          "data": {
            "image/png": "[encoded data removed]",
            "text/plain": [
              "<Figure size 432x288 with 1 Axes>"
            ]
          },
          "metadata": {
            "tags": []
          }
        }
      ]
    },
    {
      "cell_type": "code",
      "metadata": {
        "colab": {
          "base_uri": "https://localhost:8080/"
        },
        "id": "BDGzZhbExPFa",
        "outputId": "f954863c-0807-4421-84d7-d9bebf60e634"
      },
      "source": [
        "df.BlueCars_returned_sum.describe()"
      ],
      "execution_count": null,
      "outputs": [
        {
          "output_type": "execute_result",
          "data": {
            "text/plain": [
              "count    16085.000000\n",
              "mean       125.912714\n",
              "std        185.501535\n",
              "min          0.000000\n",
              "25%         20.000000\n",
              "50%         46.000000\n",
              "75%        135.000000\n",
              "max       1332.000000\n",
              "Name: BlueCars_returned_sum, dtype: float64"
            ]
          },
          "metadata": {
            "tags": []
          },
          "execution_count": 20
        }
      ]
    },
    {
      "cell_type": "code",
      "metadata": {
        "colab": {
          "base_uri": "https://localhost:8080/",
          "height": 480
        },
        "id": "Rr91eGX6uMsM",
        "outputId": "b0a1819a-e5ec-4aff-fb73-3e21b26ee13f"
      },
      "source": [
        "bluecars = df['day_type'].value_counts()\n",
        "print(bluecars)\n",
        "print(' ')\n",
        "print(' ')\n",
        "sns.set(style=\"darkgrid\")\n",
        "sns.barplot(bluecars.index, bluecars.values, alpha=0.9)\n",
        "plt.title('Total taken cars')\n",
        "plt.ylabel('BlueCars_taken_sum', fontsize=12)\n",
        "plt.xlabel('day_type', fontsize=12)\n",
        "plt.xticks(rotation = 75)\n",
        "plt.show()"
      ],
      "execution_count": null,
      "outputs": [
        {
          "output_type": "stream",
          "text": [
            "weekday    11544\n",
            "weekend     4541\n",
            "Name: day_type, dtype: int64\n",
            " \n",
            " \n"
          ],
          "name": "stdout"
        },
        {
          "output_type": "stream",
          "text": [
            "/usr/local/lib/python3.7/dist-packages/seaborn/_decorators.py:43: FutureWarning: Pass the following variables as keyword args: x, y. From version 0.12, the only valid positional argument will be `data`, and passing other arguments without an explicit keyword will result in an error or misinterpretation.\n",
            "  FutureWarning\n"
          ],
          "name": "stderr"
        },
        {
          "output_type": "display_data",
          "data": {
            "image/png": "[encoded data removed]",
            "text/plain": [
              "<Figure size 432x288 with 1 Axes>"
            ]
          },
          "metadata": {
            "tags": []
          }
        }
      ]
    },
    {
      "cell_type": "code",
      "metadata": {
        "colab": {
          "base_uri": "https://localhost:8080/"
        },
        "id": "5EuiLu6Rwfsl",
        "outputId": "1f49fa86-1538-4feb-908c-5f512c052cd4"
      },
      "source": [
        "df.BlueCars_taken_sum.describe()"
      ],
      "execution_count": null,
      "outputs": [
        {
          "output_type": "execute_result",
          "data": {
            "text/plain": [
              "count    16085.000000\n",
              "mean       125.926951\n",
              "std        185.426579\n",
              "min          0.000000\n",
              "25%         20.000000\n",
              "50%         46.000000\n",
              "75%        135.000000\n",
              "max       1352.000000\n",
              "Name: BlueCars_taken_sum, dtype: float64"
            ]
          },
          "metadata": {
            "tags": []
          },
          "execution_count": 22
        }
      ]
    },
    {
      "cell_type": "code",
      "metadata": {
        "colab": {
          "base_uri": "https://localhost:8080/",
          "height": 318
        },
        "id": "AWutTidQz1DZ",
        "outputId": "8ba0cbd6-286d-4e58-9c04-cebd7bcb1140"
      },
      "source": [
        "(df['dayOfWeek'].value_counts(normalize=True)).plot.barh()\n",
        "\n",
        "# labelling the bar chart \n",
        "plt.title('Days', fontsize=15, y=1.015)\n",
        "# labelling the x axis \n",
        "plt.xlabel('BlueCars_returned_sum', fontsize=14, labelpad=15)\n",
        "# labelling the y axis\n",
        "plt.ylabel('dayOfWeek', fontsize=14, labelpad=15)\n",
        "#display bar chart\n",
        "plt.show()"
      ],
      "execution_count": null,
      "outputs": [
        {
          "output_type": "display_data",
          "data": {
            "image/png": "[encoded data removed]",
            "text/plain": [
              "<Figure size 432x288 with 1 Axes>"
            ]
          },
          "metadata": {
            "tags": []
          }
        }
      ]
    },
    {
      "cell_type": "code",
      "metadata": {
        "colab": {
          "base_uri": "https://localhost:8080/",
          "height": 318
        },
        "id": "n_m347OmyOzq",
        "outputId": "0c82b434-bb82-4524-8661-6fffed5b0980"
      },
      "source": [
        "(df['dayOfWeek'].value_counts(normalize=True)).plot.barh()\n",
        "\n",
        "\n",
        "plt.title('Days', fontsize=15, y=1.015)\n",
        "\n",
        "plt.xlabel('BlueCars_taken_sum', fontsize=14, labelpad=15)\n",
        "\n",
        "plt.ylabel('dayOfWeek', fontsize=14, labelpad=15)\n",
        "\n",
        "plt.show()"
      ],
      "execution_count": null,
      "outputs": [
        {
          "output_type": "display_data",
          "data": {
            "image/png": "[encoded data removed]",
            "text/plain": [
              "<Figure size 432x288 with 1 Axes>"
            ]
          },
          "metadata": {
            "tags": []
          }
        }
      ]
    },
    {
      "cell_type": "markdown",
      "metadata": {
        "id": "7O9x95183fbp"
      },
      "source": [
        "#Bivariate analysis"
      ]
    },
    {
      "cell_type": "code",
      "metadata": {
        "colab": {
          "base_uri": "https://localhost:8080/"
        },
        "id": "VSAqscW_3Yfb",
        "outputId": "803e55a4-4842-4bf6-c04a-005491bfd2ee"
      },
      "source": [
        "#checking for correlation coefficiency\n",
        "corr = df['BlueCars_taken_sum'].corr(df['BlueCars_returned_sum'])\n",
        "print(corr)\n",
        "\n",
        "#it suggests a strong positive correlation"
      ],
      "execution_count": null,
      "outputs": [
        {
          "output_type": "stream",
          "text": [
            "0.9986597051672199\n"
          ],
          "name": "stdout"
        }
      ]
    },
    {
      "cell_type": "code",
      "metadata": {
        "colab": {
          "base_uri": "https://localhost:8080/",
          "height": 318
        },
        "id": "u25nhTb_4QWj",
        "outputId": "46d1a2e0-0566-4893-9232-fc1d0d259e60"
      },
      "source": [
        "#creating a sctater plot for postal and the blue cars\n",
        "sns.regplot(x = df[\"Postal_code\"], y = df[\"BlueCars_taken_sum\"], fit_reg=False)\n",
        "\n",
        "# Givint the scatterplot a title\n",
        "plt.title('Bluecars', fontsize=15, y=1.015)\n",
        "# Labelling the x axis\n",
        "plt.xlabel('Postal_code', fontsize=14, labelpad=15)\n",
        "# Labelling the y axis\n",
        "plt.ylabel('BlueCars_taken_sum', fontsize=14, labelpad=15)\n",
        "# Displaying the scatterplot\n",
        "plt.show()\n",
        "\n",
        "#There is no relation between the points(The postal code and the Blue cars)"
      ],
      "execution_count": null,
      "outputs": [
        {
          "output_type": "display_data",
          "data": {
            "image/png": "[encoded data removed]",
            "text/plain": [
              "<Figure size 432x288 with 1 Axes>"
            ]
          },
          "metadata": {
            "tags": []
          }
        }
      ]
    },
    {
      "cell_type": "code",
      "metadata": {
        "colab": {
          "base_uri": "https://localhost:8080/",
          "height": 318
        },
        "id": "S1o8vXbXVwMf",
        "outputId": "d215e6da-6100-455c-d340-a15676a9dcc7"
      },
      "source": [
        "# scatter plot\n",
        "sns.regplot(x = df[\"dayOfWeek\"], y = df[\"BlueCars_taken_sum\"], fit_reg=False)\n",
        "\n",
        "# Givint the scatterplot a title\n",
        "plt.title('Days vs Bluecars', fontsize=15, y=1.015)\n",
        "# Labelling the x axis\n",
        "plt.xlabel('daysOfWeek', fontsize=14, labelpad=15)\n",
        "# Labelling the y axis\n",
        "plt.ylabel('BlueCars_taken_sum', fontsize=14, labelpad=15)\n",
        "# Displaying the scatterplot\n",
        "plt.show()"
      ],
      "execution_count": 42,
      "outputs": [
        {
          "output_type": "display_data",
          "data": {
            "image/png": "[encoded data removed]",
            "text/plain": [
              "<Figure size 432x288 with 1 Axes>"
            ]
          },
          "metadata": {
            "tags": []
          }
        }
      ]
    },
    {
      "cell_type": "code",
      "metadata": {
        "colab": {
          "base_uri": "https://localhost:8080/"
        },
        "id": "Mn8dMbUfGAdY",
        "outputId": "912e88b1-8851-4861-ccd2-bb0af3368e18"
      },
      "source": [
        "# Calculating the pearson coefficient\n",
        "pearson_coeff = df[\"Postal_code\"].corr(df[\"BlueCars_taken_sum\"], method=\"pearson\") \n",
        "print(pearson_coeff)\n",
        "\n",
        "# Checking whether you have to define the pearson\n",
        "coeff = df[\"Postal_code\"].corr(df[\"BlueCars_taken_sum\"]) \n",
        "print(coeff)\n",
        "\n",
        "#This signifies to be A strong negative correlation"
      ],
      "execution_count": null,
      "outputs": [
        {
          "output_type": "stream",
          "text": [
            "-0.6980199787851213\n",
            "-0.6980199787851213\n"
          ],
          "name": "stdout"
        }
      ]
    },
    {
      "cell_type": "code",
      "metadata": {
        "id": "6KZOnb_tLlIr",
        "colab": {
          "base_uri": "https://localhost:8080/",
          "height": 304
        },
        "outputId": "054e6570-e332-4d93-c462-f287ab9b267c"
      },
      "source": [
        "# Plotting our line graph\n",
        "df[\"Postal_code\"].plot()\n",
        "\n",
        "# Giving a title to our line graph\n",
        "plt.title(\"BlueCars\", fontsize=12, y=1.015)\n",
        "\n",
        "# Labelling the y-axis\n",
        "plt.ylabel('BlueCars_taken_sum')\n",
        "\n",
        "# Labelling the x-axis\n",
        "plt.xlabel('Bluecars_returned_sum')\n",
        "\n",
        "# Displaying our graph\n",
        "plt.show()"
      ],
      "execution_count": 41,
      "outputs": [
        {
          "output_type": "display_data",
          "data": {
            "image/png": "[encoded data removed]",
            "text/plain": [
              "<Figure size 432x288 with 1 Axes>"
            ]
          },
          "metadata": {
            "tags": []
          }
        }
      ]
    },
    {
      "cell_type": "code",
      "metadata": {
        "id": "ATshzfNdfWmd"
      },
      "source": [
        ""
      ],
      "execution_count": null,
      "outputs": []
    },
    {
      "cell_type": "markdown",
      "metadata": {
        "id": "vSgmrBl3if4P"
      },
      "source": [
        "#Hypothesis Testing"
      ]
    },
    {
      "cell_type": "code",
      "metadata": {
        "colab": {
          "base_uri": "https://localhost:8080/"
        },
        "id": "K7zhi5Emik3X",
        "outputId": "43d0aa55-b746-4a0b-89bb-6a83b78ba5ed"
      },
      "source": [
        "# importing random\n",
        "from numpy.random import randn\n",
        "# imporing the shapiro function\n",
        "from scipy.stats import shapiro \n",
        "\n",
        "# generating univariate observations\n",
        "df = 5 * randn(100) + 50\n",
        "\n",
        "# testing for normality\n",
        "stat, p = shapiro(df)\n",
        "print('Statistics=%.3f, p=%.3f' % (stat, p))\n",
        "\n",
        "# interpreting\n",
        "alpha = 0.05\n",
        "if p > alpha:\n",
        "\tprint('Sample looks Gaussian')\n",
        "else:\n",
        "\tprint('Sample does not look Gaussian')\n",
        "  \n"
      ],
      "execution_count": 45,
      "outputs": [
        {
          "output_type": "stream",
          "text": [
            "Statistics=0.978, p=0.085\n",
            "Sample looks Gaussian\n"
          ],
          "name": "stdout"
        }
      ]
    },
    {
      "cell_type": "code",
      "metadata": {
        "colab": {
          "base_uri": "https://localhost:8080/"
        },
        "id": "GZoDljO6AxaE",
        "outputId": "7369eea5-4b55-4e07-d267-1e31564d461b"
      },
      "source": [
        "print(u'/Hu2082O')"
      ],
      "execution_count": 47,
      "outputs": [
        {
          "output_type": "stream",
          "text": [
            "/Hu2082O\n"
          ],
          "name": "stdout"
        }
      ]
    },
    {
      "cell_type": "code",
      "metadata": {
        "id": "zwJtE1xcGLYB"
      },
      "source": [
        ""
      ],
      "execution_count": 46,
      "outputs": []
    }
  ]
}